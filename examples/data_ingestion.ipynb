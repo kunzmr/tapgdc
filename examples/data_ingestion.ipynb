{
 "cells": [
  {
   "cell_type": "code",
   "execution_count": 1,
   "metadata": {},
   "outputs": [],
   "source": [
    "import duckdb\n",
    "import pandas as pd\n",
    "import tapgdc\n",
    "# note: pyarrow is also required for saving to parquet in pandas\n",
    "\n",
    "# for reporting size difference\n",
    "import os\n",
    "\n",
    "# Data storage path\n",
    "save_path = '../../../tap_data'"
   ]
  },
  {
   "cell_type": "markdown",
   "metadata": {},
   "source": [
    "Create the metadata first"
   ]
  },
  {
   "cell_type": "code",
   "execution_count": 2,
   "metadata": {},
   "outputs": [],
   "source": [
    "meta_data = tapgdc.init_metadata()\n",
    "meta_data['catalyst'] = 'Pt'\n",
    "meta_data['catalyst_amt_mg'] = 15.6\n",
    "meta_data['creator'] = 'Zongtang Fang'\n",
    "meta_data['name'] = 'irreversibleO2'\n",
    "meta_data['paper_DOI'] = 'https://doi.org/10.1016/j.cattod.2022.02.010'\n",
    "meta_data['date_created'] = '2021-12-16'\n",
    "meta_data['time_delta_s'] = 0.001\n",
    "\n",
    "\n",
    "argon_meta = tapgdc.init_pulse_iteration()\n",
    "oxygen_meta = tapgdc.init_pulse_iteration()\n",
    "oxygen_meta['amu'] = 32\n",
    "oxygen_meta['rtype'] = 'reactant'\n",
    "meta_data['pulse_iteration'] = [argon_meta, oxygen_meta]\n",
    "meta_data['preparation_notes'] ='The Strong Electrostatic Adsorption (SEA) method was used for the synthesis of 1.0 wt% Pt/SiO2 catalyst.  A commercial silica (AEROSIL OX50, $50 m2/g) from EVONIK was chosen as the support and a precursor of tetraamine platinum (II) hydroxide (Pt(NH3)4(OH)2, 99%, from Aldrich) was employed to deposit the metal. The precursor was dissolved in deionized (DI) water and the initial pH was adjusted to 11.5 with NaOH. Silica was added to the solution and the contents were shaken for one hour.  The resulting mixture was washed with DI water, filtered, and dried overnight under vacuum.  The material was pressed and sieved, retaining the 250 - 300  mu m fraction.  Next, the catalyst was pretreated ex-situ in 50% oxygen and argon flow (30 mL/min) at 400C for $30 min$ followed by reduction in 4% hydrogen and argon flow (50 mL/min) at 400C for one hour. The ex-situ oxidation and reduction was performed with three cycles. Approximately 15.6 mg of pretreated catalyst with the particle size of 250 - 300 mu m was loaded between two zones of the same particle size quartz sand (Sigma Aldrich).  The total length of the reactor was 0.0564m, with a catalyst zone of 0.002 m, and a cross sectional area of 1.256X10-5  m2. The TAP reactor was evacuated at 300C to a pressure of 1X10-7 torr and the catalyst was subjected to at least three cycles of alternating pulses of 200 pulses of carbon monoxide and argon and 200 pulses of oxygen and argon to activate the platinum and reach a reproducible starting point for pulsing experiments. Prior to oxygen adsorption, the catalyst was again reduced at 300C by introducing a sequence of 50% carbon monoxide and argon pulses until no carbon dioxide formation was detected. The TAP reactor was subsequently heated to 500C and kept for 30 min to remove adsorbed carbon monoxide and then cooled to the desired temperature for testing oxidation. The adsorption of oxygen on the catalyst was recorded in separate experiments by pulsing a 1:1 oxygen and argon mixture at 300C with different pulsing intervals of 2.0, 2.5, 3.0, 3.5, and 4.0 s. The time evolution of three mass fragments was followed, namely argon (AMU 40), oxygen (AMU 32), and carbon dioxide (AMU 44). There was no carbon dioxide production detected at the beginning of each oxidation experiment.'"
   ]
  },
  {
   "cell_type": "code",
   "execution_count": 4,
   "metadata": {},
   "outputs": [],
   "source": [
    "# read in the data\n",
    "argon_path = '../../../TAP/zongtang_oxygen_data/argon.csv'\n",
    "oxygen_path = '../../../TAP/zongtang_oxygen_data/oxygen.csv'\n",
    "csv_paths = [argon_path, oxygen_path]\n",
    "tapgdc.csv2table(meta_data, csv_paths, save_path)"
   ]
  },
  {
   "cell_type": "markdown",
   "metadata": {},
   "source": [
    "File size ratio of parquet over CSVs. Lower means better compression."
   ]
  },
  {
   "cell_type": "code",
   "execution_count": 5,
   "metadata": {},
   "outputs": [
    {
     "data": {
      "text/plain": [
       "0.14734534203840377"
      ]
     },
     "execution_count": 5,
     "metadata": {},
     "output_type": "execute_result"
    }
   ],
   "source": [
    "tmp_path = save_path + '/timeseries/' + meta_data['ID'] + '.parquet'\n",
    "os.path.getsize(tmp_path) / (os.path.getsize(argon_path) + os.path.getsize(oxygen_path))"
   ]
  },
  {
   "cell_type": "markdown",
   "metadata": {},
   "source": [
    "Example for TDMS file"
   ]
  },
  {
   "cell_type": "code",
   "execution_count": 6,
   "metadata": {},
   "outputs": [],
   "source": [
    "meta_data = tapgdc.init_metadata()\n",
    "meta_data['ID'] = '0002'\n",
    "meta_data['name'] = '0.5Pt_CO-25C-set1'\n",
    "meta_data['time_delta_s'] = 0.001\n",
    "file_path = '../../../TAP/random_walk/data/0.5Pt_CO-25C-set1.tdms'"
   ]
  },
  {
   "cell_type": "code",
   "execution_count": 7,
   "metadata": {},
   "outputs": [],
   "source": [
    "tapgdc.tdms2table(meta_data, file_path, save_path)"
   ]
  },
  {
   "cell_type": "code",
   "execution_count": 7,
   "metadata": {},
   "outputs": [
    {
     "data": {
      "text/plain": [
       "0.37835401975357685"
      ]
     },
     "execution_count": 7,
     "metadata": {},
     "output_type": "execute_result"
    }
   ],
   "source": [
    "tmp_path = save_path + '/timeseries/' + meta_data['ID'] + '.parquet'\n",
    "os.path.getsize(tmp_path) / (os.path.getsize(file_path))"
   ]
  },
  {
   "cell_type": "markdown",
   "metadata": {},
   "source": [
    "Pulling the data"
   ]
  },
  {
   "cell_type": "code",
   "execution_count": 8,
   "metadata": {},
   "outputs": [
    {
     "data": {
      "text/html": [
       "<div>\n",
       "<style scoped>\n",
       "    .dataframe tbody tr th:only-of-type {\n",
       "        vertical-align: middle;\n",
       "    }\n",
       "\n",
       "    .dataframe tbody tr th {\n",
       "        vertical-align: top;\n",
       "    }\n",
       "\n",
       "    .dataframe thead th {\n",
       "        text-align: right;\n",
       "    }\n",
       "</style>\n",
       "<table border=\"1\" class=\"dataframe\">\n",
       "  <thead>\n",
       "    <tr style=\"text-align: right;\">\n",
       "      <th></th>\n",
       "      <th>pulse_iteration</th>\n",
       "      <th>pulse_index</th>\n",
       "      <th>time_index</th>\n",
       "      <th>flux</th>\n",
       "    </tr>\n",
       "  </thead>\n",
       "  <tbody>\n",
       "    <tr>\n",
       "      <th>0</th>\n",
       "      <td>1</td>\n",
       "      <td>199</td>\n",
       "      <td>0</td>\n",
       "      <td>-0.0447</td>\n",
       "    </tr>\n",
       "    <tr>\n",
       "      <th>1</th>\n",
       "      <td>1</td>\n",
       "      <td>199</td>\n",
       "      <td>1</td>\n",
       "      <td>-0.0467</td>\n",
       "    </tr>\n",
       "    <tr>\n",
       "      <th>2</th>\n",
       "      <td>1</td>\n",
       "      <td>199</td>\n",
       "      <td>2</td>\n",
       "      <td>-0.0531</td>\n",
       "    </tr>\n",
       "    <tr>\n",
       "      <th>3</th>\n",
       "      <td>1</td>\n",
       "      <td>199</td>\n",
       "      <td>3</td>\n",
       "      <td>-0.0489</td>\n",
       "    </tr>\n",
       "    <tr>\n",
       "      <th>4</th>\n",
       "      <td>1</td>\n",
       "      <td>199</td>\n",
       "      <td>4</td>\n",
       "      <td>-0.0622</td>\n",
       "    </tr>\n",
       "  </tbody>\n",
       "</table>\n",
       "</div>"
      ],
      "text/plain": [
       "   pulse_iteration  pulse_index  time_index    flux\n",
       "0                1          199           0 -0.0447\n",
       "1                1          199           1 -0.0467\n",
       "2                1          199           2 -0.0531\n",
       "3                1          199           3 -0.0489\n",
       "4                1          199           4 -0.0622"
      ]
     },
     "execution_count": 8,
     "metadata": {},
     "output_type": "execute_result"
    }
   ],
   "source": [
    "test = duckdb.execute(\"SELECT * FROM '~/Documents/tap_data/timeseries/0001.parquet' WHERE pulse_index = 199 AND pulse_iteration = 1\").df()\n",
    "test.head()"
   ]
  },
  {
   "cell_type": "code",
   "execution_count": 9,
   "metadata": {},
   "outputs": [
    {
     "data": {
      "text/plain": [
       "(4000, 4)"
      ]
     },
     "execution_count": 9,
     "metadata": {},
     "output_type": "execute_result"
    }
   ],
   "source": [
    "test.shape"
   ]
  },
  {
   "cell_type": "code",
   "execution_count": 10,
   "metadata": {},
   "outputs": [
    {
     "data": {
      "text/html": [
       "<div>\n",
       "<style scoped>\n",
       "    .dataframe tbody tr th:only-of-type {\n",
       "        vertical-align: middle;\n",
       "    }\n",
       "\n",
       "    .dataframe tbody tr th {\n",
       "        vertical-align: top;\n",
       "    }\n",
       "\n",
       "    .dataframe thead th {\n",
       "        text-align: right;\n",
       "    }\n",
       "</style>\n",
       "<table border=\"1\" class=\"dataframe\">\n",
       "  <thead>\n",
       "    <tr style=\"text-align: right;\">\n",
       "      <th></th>\n",
       "      <th>pulse_iteration</th>\n",
       "      <th>pulse_index</th>\n",
       "      <th>time_index</th>\n",
       "      <th>flux</th>\n",
       "    </tr>\n",
       "  </thead>\n",
       "  <tbody>\n",
       "    <tr>\n",
       "      <th>0</th>\n",
       "      <td>1</td>\n",
       "      <td>199</td>\n",
       "      <td>0</td>\n",
       "      <td>0.0622</td>\n",
       "    </tr>\n",
       "    <tr>\n",
       "      <th>1</th>\n",
       "      <td>1</td>\n",
       "      <td>199</td>\n",
       "      <td>1</td>\n",
       "      <td>0.0684</td>\n",
       "    </tr>\n",
       "    <tr>\n",
       "      <th>2</th>\n",
       "      <td>1</td>\n",
       "      <td>199</td>\n",
       "      <td>2</td>\n",
       "      <td>0.0635</td>\n",
       "    </tr>\n",
       "    <tr>\n",
       "      <th>3</th>\n",
       "      <td>1</td>\n",
       "      <td>199</td>\n",
       "      <td>3</td>\n",
       "      <td>0.0645</td>\n",
       "    </tr>\n",
       "    <tr>\n",
       "      <th>4</th>\n",
       "      <td>1</td>\n",
       "      <td>199</td>\n",
       "      <td>4</td>\n",
       "      <td>0.0645</td>\n",
       "    </tr>\n",
       "  </tbody>\n",
       "</table>\n",
       "</div>"
      ],
      "text/plain": [
       "   pulse_iteration  pulse_index  time_index    flux\n",
       "0                1          199           0  0.0622\n",
       "1                1          199           1  0.0684\n",
       "2                1          199           2  0.0635\n",
       "3                1          199           3  0.0645\n",
       "4                1          199           4  0.0645"
      ]
     },
     "execution_count": 10,
     "metadata": {},
     "output_type": "execute_result"
    }
   ],
   "source": [
    "test = duckdb.execute(\"SELECT * FROM '~/Documents/tap_data/timeseries/0002.parquet' WHERE pulse_index = 199 AND pulse_iteration = 1\").df()\n",
    "test.head()"
   ]
  },
  {
   "cell_type": "code",
   "execution_count": 11,
   "metadata": {},
   "outputs": [
    {
     "data": {
      "text/plain": [
       "(8100, 4)"
      ]
     },
     "execution_count": 11,
     "metadata": {},
     "output_type": "execute_result"
    }
   ],
   "source": [
    "test.shape"
   ]
  }
 ],
 "metadata": {
  "kernelspec": {
   "display_name": "venvTAP",
   "language": "python",
   "name": "python3"
  },
  "language_info": {
   "codemirror_mode": {
    "name": "ipython",
    "version": 3
   },
   "file_extension": ".py",
   "mimetype": "text/x-python",
   "name": "python",
   "nbconvert_exporter": "python",
   "pygments_lexer": "ipython3",
   "version": "3.12.3"
  }
 },
 "nbformat": 4,
 "nbformat_minor": 2
}
