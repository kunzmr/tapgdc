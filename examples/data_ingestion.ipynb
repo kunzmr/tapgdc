{
 "cells": [
  {
   "cell_type": "code",
   "execution_count": 1,
   "metadata": {},
   "outputs": [],
   "source": [
    "import numpy as np\n",
    "import json\n",
    "import os\n",
    "import pandas as pd\n",
    "# note: pyarrow is also required for saving to parquet in pandas\n",
    "\n",
    "# Data storage path\n",
    "data_path = '../../../tap_data'"
   ]
  },
  {
   "cell_type": "code",
   "execution_count": 2,
   "metadata": {},
   "outputs": [],
   "source": [
    "def init_pulse_iteration() -> dict:\n",
    "    out = dict({\n",
    "        'amu': 40,\n",
    "        'gain': 8,\n",
    "        'injected_time': 0,\n",
    "        'probe_time': 0,\n",
    "        'type': 'inert'\n",
    "        })\n",
    "    \n",
    "    return out\n",
    "\n",
    "def init_metadata() -> dict:\n",
    "    out = dict({\n",
    "        'catalyst': '',\n",
    "        'catalyst_amt_mg': 1,\n",
    "        'catalyst_percent_wt': 1,\n",
    "        'catalyst_zone_length_cm': 1,\n",
    "        'creator': '',\n",
    "        'date_created': 'YYYY-MM-DD',\n",
    "        'injection_amt_nmol': 1,\n",
    "        'ID': '0001',\n",
    "        'name':'test',\n",
    "        'paper_DOI': 'none',\n",
    "        'preparation_notes': '',\n",
    "        'pulse_iteration' :[init_pulse_iteration()],\n",
    "        'reactor_length_cm': 1,\n",
    "        'support': 'SiO2',\n",
    "        'time_delta_s': 0.001\n",
    "        })\n",
    "    \n",
    "    return out\n",
    "    \n",
    "\n",
    "# pulse_iteration, pulse_index, and time_index start at 0, \n",
    "# This is especially important when dealing with time.\n",
    "# Note that the pulse_index, time_index, and pulse_iteration are all integers.\n",
    "# This is done for faster data queries and compression.\n",
    "# If the data is not collected evenly within time, please use the time variable.\n",
    "\n",
    "def matrix2table(x:pd.DataFrame, sig_figs = 5, pulse_iteration = 0, time = None):\n",
    "    n = x.shape[0]\n",
    "    p = x.shape[1]\n",
    "    pulse_index = np.repeat(np.arange(p), n)\n",
    "\n",
    "    \n",
    "    time_index = np.tile(np.arange(n), p)\n",
    "    if time is not None:\n",
    "        time_index = np.tile(time, p)\n",
    "\n",
    "    out = pd.DataFrame({'time_index': time_index, 'pulse_index': pulse_index})\n",
    "    out['pulse_iteration'] = pulse_iteration\n",
    "    out['flux'] = x.T.to_numpy().flatten().round(sig_figs)\n",
    "\n",
    "    # Ordering the columns for compression.\n",
    "    out = out[['pulse_iteration', 'pulse_index', 'time_index', 'flux']]\n",
    "\n",
    "    # Ensuring integer columns\n",
    "    out['pulse_iteration'] = out['pulse_iteration'].astype(int)\n",
    "    out['pulse_index'] = out['pulse_index'].astype(int)\n",
    "    if time is None:\n",
    "        out['time_index'] = out['time_index'].astype(int)\n",
    "\n",
    "    return out"
   ]
  },
  {
   "cell_type": "markdown",
   "metadata": {},
   "source": [
    "Create the metadata first"
   ]
  },
  {
   "cell_type": "code",
   "execution_count": 3,
   "metadata": {},
   "outputs": [],
   "source": [
    "meta_data = init_metadata()\n",
    "meta_data['catalyst'] = 'Pt'\n",
    "meta_data['catalyst_amt_mg'] = 15.6\n",
    "meta_data['creator'] = 'Zongtang Fang'\n",
    "meta_data['name'] = 'irreversibleO2'\n",
    "meta_data['paper_DOI'] = 'https://doi.org/10.1016/j.cattod.2022.02.010'\n",
    "meta_data['date_created'] = '2021-12-16'\n",
    "meta_data['time_delta_s'] = 0.001\n",
    "\n",
    "\n",
    "argon_meta = init_pulse_iteration()\n",
    "oxygen_meta = init_pulse_iteration()\n",
    "oxygen_meta['amu'] = 32\n",
    "oxygen_meta['type'] = 'reactant'\n",
    "meta_data['pulse_iteration'] = [argon_meta, oxygen_meta]\n",
    "meta_data['preparation_notes'] ='The Strong Electrostatic Adsorption (SEA) method was used for the synthesis of 1.0 wt% Pt/SiO2 catalyst.  A commercial silica (AEROSIL OX50, $50 m2/g) from EVONIK was chosen as the support and a precursor of tetraamine platinum (II) hydroxide (Pt(NH3)4(OH)2, 99%, from Aldrich) was employed to deposit the metal. The precursor was dissolved in deionized (DI) water and the initial pH was adjusted to 11.5 with NaOH. Silica was added to the solution and the contents were shaken for one hour.  The resulting mixture was washed with DI water, filtered, and dried overnight under vacuum.  The material was pressed and sieved, retaining the 250 - 300  mu m fraction.  Next, the catalyst was pretreated ex-situ in 50% oxygen and argon flow (30 mL/min) at 400C for $30 min$ followed by reduction in 4% hydrogen and argon flow (50 mL/min) at 400C for one hour. The ex-situ oxidation and reduction was performed with three cycles. Approximately 15.6 mg of pretreated catalyst with the particle size of 250 - 300 mu m was loaded between two zones of the same particle size quartz sand (Sigma Aldrich).  The total length of the reactor was 0.0564m, with a catalyst zone of 0.002 m, and a cross sectional area of 1.256X10-5  m2. The TAP reactor was evacuated at 300C to a pressure of 1X10-7 torr and the catalyst was subjected to at least three cycles of alternating pulses of 200 pulses of carbon monoxide and argon and 200 pulses of oxygen and argon to activate the platinum and reach a reproducible starting point for pulsing experiments. Prior to oxygen adsorption, the catalyst was again reduced at 300C by introducing a sequence of 50% carbon monoxide and argon pulses until no carbon dioxide formation was detected. The TAP reactor was subsequently heated to 500C and kept for 30 min to remove adsorbed carbon monoxide and then cooled to the desired temperature for testing oxidation. The adsorption of oxygen on the catalyst was recorded in separate experiments by pulsing a 1:1 oxygen and argon mixture at 300C with different pulsing intervals of 2.0, 2.5, 3.0, 3.5, and 4.0 s. The time evolution of three mass fragments was followed, namely argon (AMU 40), oxygen (AMU 32), and carbon dioxide (AMU 44). There was no carbon dioxide production detected at the beginning of each oxidation experiment.'\n"
   ]
  },
  {
   "cell_type": "code",
   "execution_count": 9,
   "metadata": {},
   "outputs": [],
   "source": [
    "tmp_path = data_path + '/metadata/' + meta_data['ID'] + '.json'\n",
    "with open(tmp_path, 'w') as f:\n",
    "    json.dump(meta_data, f)"
   ]
  },
  {
   "cell_type": "code",
   "execution_count": 10,
   "metadata": {},
   "outputs": [],
   "source": [
    "# read in the data\n",
    "argon = pd.read_csv(\"~/Documents/TAP/random_walk/data/argon.csv\")\n",
    "oxygen = pd.read_csv(\"~/Documents/TAP/random_walk/data/oxygen.csv\")\n",
    "\n",
    "# This data includes time as the first column.\n",
    "# Removing the time and keeping the time delta.\n",
    "argon = argon.iloc[:, 1:argon.shape[1]]\n",
    "oxygen = oxygen.iloc[:, 1:oxygen.shape[1]]\n",
    "\n",
    "argon = matrix2table(argon, pulse_iteration=0)\n",
    "oxygen = matrix2table(oxygen, pulse_iteration=1)"
   ]
  },
  {
   "cell_type": "code",
   "execution_count": 11,
   "metadata": {},
   "outputs": [],
   "source": [
    "dat = pd.concat([argon, oxygen], ignore_index=True)"
   ]
  },
  {
   "cell_type": "code",
   "execution_count": 12,
   "metadata": {},
   "outputs": [],
   "source": [
    "dat.to_parquet(\"~/Documents/tap_data/timeseries/0001.parquet\",index=False)\n",
    "\n",
    "# Size in CSV: ~ 50 MB\n",
    "# Size in Parquet ~ 7.5 MB"
   ]
  },
  {
   "cell_type": "markdown",
   "metadata": {},
   "source": [
    "Example for TDMS file"
   ]
  },
  {
   "cell_type": "code",
   "execution_count": 13,
   "metadata": {},
   "outputs": [],
   "source": [
    "import nptdms\n",
    "tmp_path = '../../../TAP/random_walk/data/0.5Pt_CO-25C-set1.tdms'\n",
    "dat = nptdms.TdmsFile(tmp_path).as_dataframe()"
   ]
  },
  {
   "cell_type": "code",
   "execution_count": null,
   "metadata": {},
   "outputs": [],
   "source": [
    "tdms_names = base_file.keys()\n",
    "tdms_names_split = [str(i).replace(\"'\", \"\") for i in tdms_names]\n",
    "tdms_names_split = [str(i).split(\"/\") for i in tdms_names_split]\n",
    "group_info = [i[1] for i in tdms_names_split]\n",
    "unique_group_info = list(unique(array(group_info)))\n",
    "# removing secondary and meta data where the remainder are the individual measured masses\n",
    "unique_group_info = unique_group_info[:len(unique_group_info) - 2]\n",
    "\n",
    "group_df = base_file.iloc[:, group_locs]\n",
    "flux_df = group_df.iloc[1:, 3:]"
   ]
  },
  {
   "cell_type": "markdown",
   "metadata": {},
   "source": [
    "Pulling the data"
   ]
  },
  {
   "cell_type": "code",
   "execution_count": null,
   "metadata": {},
   "outputs": [],
   "source": [
    "import duckdb\n",
    "test = duckdb.execute(\"SELECT * FROM '~/Documents/tap_data/timeseries/0001.parquet' WHERE pulse_index = 200 AND pulse_iteration = 2\").df()\n",
    "test.head()"
   ]
  }
 ],
 "metadata": {
  "kernelspec": {
   "display_name": "venvTAP",
   "language": "python",
   "name": "python3"
  },
  "language_info": {
   "codemirror_mode": {
    "name": "ipython",
    "version": 3
   },
   "file_extension": ".py",
   "mimetype": "text/x-python",
   "name": "python",
   "nbconvert_exporter": "python",
   "pygments_lexer": "ipython3",
   "version": "3.12.3"
  }
 },
 "nbformat": 4,
 "nbformat_minor": 2
}
